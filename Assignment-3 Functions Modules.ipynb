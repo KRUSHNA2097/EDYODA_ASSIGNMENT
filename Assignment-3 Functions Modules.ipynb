{
 "cells": [
  {
   "cell_type": "markdown",
   "id": "4cf50d20",
   "metadata": {},
   "source": [
    "# Write a Python program to reverse a string.\n",
    "\n",
    "\n",
    "\n",
    "# ﻿Sample String : \"1234abcd\"\n",
    "\n",
    "# Expected Output : \"dcba4321\"\n",
    "\n"
   ]
  },
  {
   "cell_type": "code",
   "execution_count": 5,
   "id": "c36b970b",
   "metadata": {},
   "outputs": [
    {
     "name": "stdout",
     "output_type": "stream",
     "text": [
      "Enter a string: \"1234abcd\"\n",
      "Revers string:  dcba4321\n"
     ]
    }
   ],
   "source": [
    "def rev_str(x):\n",
    "  return x[::-1]\n",
    "\n",
    "mystr = eval(input(\"Enter a string: \"))\n",
    "mystr = rev_str(mystr)\n",
    "\n",
    "print(\"Revers string: \",mystr)"
   ]
  },
  {
   "cell_type": "code",
   "execution_count": 3,
   "id": "ab1eec93",
   "metadata": {},
   "outputs": [
    {
     "data": {
      "text/plain": [
       "'dcba4321'"
      ]
     },
     "execution_count": 3,
     "metadata": {},
     "output_type": "execute_result"
    }
   ],
   "source": [
    "mystr"
   ]
  },
  {
   "cell_type": "code",
   "execution_count": null,
   "id": "b74f4bac",
   "metadata": {},
   "outputs": [],
   "source": []
  }
 ],
 "metadata": {
  "kernelspec": {
   "display_name": "Python 3 (ipykernel)",
   "language": "python",
   "name": "python3"
  },
  "language_info": {
   "codemirror_mode": {
    "name": "ipython",
    "version": 3
   },
   "file_extension": ".py",
   "mimetype": "text/x-python",
   "name": "python",
   "nbconvert_exporter": "python",
   "pygments_lexer": "ipython3",
   "version": "3.9.13"
  }
 },
 "nbformat": 4,
 "nbformat_minor": 5
}
