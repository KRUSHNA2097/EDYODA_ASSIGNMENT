{
 "cells": [
  {
   "cell_type": "code",
   "execution_count": 5,
   "id": "1ce1468a",
   "metadata": {},
   "outputs": [
    {
     "name": "stdout",
     "output_type": "stream",
     "text": [
      "Enter a list :[(2, 5), (1, 2), (4, 4), (2, 3), (2, 1)]\n",
      "[(2, 1), (1, 2), (2, 3), (4, 4), (2, 5)]\n"
     ]
    }
   ],
   "source": [
    "tup =eval(input(\"Enter a list :\"))\n",
    "def Sort_Tuple(tup): \n",
    "       \n",
    "    lst = len(tup) \n",
    "    for i in range(0, lst): \n",
    "           \n",
    "        for j in range(0, lst-i-1): \n",
    "            if (tup[j][-1] > tup[j + 1][-1]): \n",
    "                temp = tup[j] \n",
    "                tup[j]= tup[j + 1] \n",
    "                tup[j + 1]= temp \n",
    "    return tup \n",
    "print(Sort_Tuple(tup))"
   ]
  },
  {
   "cell_type": "code",
   "execution_count": null,
   "id": "15a792af",
   "metadata": {},
   "outputs": [],
   "source": []
  }
 ],
 "metadata": {
  "kernelspec": {
   "display_name": "Python 3 (ipykernel)",
   "language": "python",
   "name": "python3"
  },
  "language_info": {
   "codemirror_mode": {
    "name": "ipython",
    "version": 3
   },
   "file_extension": ".py",
   "mimetype": "text/x-python",
   "name": "python",
   "nbconvert_exporter": "python",
   "pygments_lexer": "ipython3",
   "version": "3.9.13"
  }
 },
 "nbformat": 4,
 "nbformat_minor": 5
}
