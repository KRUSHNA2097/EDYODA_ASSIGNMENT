{
 "cells": [
  {
   "cell_type": "code",
   "execution_count": 1,
   "id": "87f2a5aa",
   "metadata": {},
   "outputs": [
    {
     "name": "stdout",
     "output_type": "stream",
     "text": [
      "Enter a list: [4, 5, 2, 9]\n",
      "Original List:  [4, 5, 2, 9]\n",
      "Square the elements of the said list using map():\n",
      "[16, 25, 4, 81]\n"
     ]
    }
   ],
   "source": [
    "def square_num(n):\n",
    "  return n * n\n",
    "nums = eval(input(\"Enter a list: \"))\n",
    "print(\"Original List: \",nums)\n",
    "result = map(square_num, nums)\n",
    "print(\"Square the elements of the said list using map():\")\n",
    "print(list(result))"
   ]
  },
  {
   "cell_type": "code",
   "execution_count": null,
   "id": "91b7d635",
   "metadata": {},
   "outputs": [],
   "source": []
  }
 ],
 "metadata": {
  "kernelspec": {
   "display_name": "Python 3 (ipykernel)",
   "language": "python",
   "name": "python3"
  },
  "language_info": {
   "codemirror_mode": {
    "name": "ipython",
    "version": 3
   },
   "file_extension": ".py",
   "mimetype": "text/x-python",
   "name": "python",
   "nbconvert_exporter": "python",
   "pygments_lexer": "ipython3",
   "version": "3.9.13"
  }
 },
 "nbformat": 4,
 "nbformat_minor": 5
}
