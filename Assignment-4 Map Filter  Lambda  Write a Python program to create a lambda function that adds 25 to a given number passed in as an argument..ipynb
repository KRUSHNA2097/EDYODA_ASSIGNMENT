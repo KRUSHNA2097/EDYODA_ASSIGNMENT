{
 "cells": [
  {
   "cell_type": "code",
   "execution_count": 8,
   "id": "76347681",
   "metadata": {},
   "outputs": [
    {
     "name": "stdout",
     "output_type": "stream",
     "text": [
      "total sum :  25\n"
     ]
    }
   ],
   "source": [
    "sum1 = lambda a : a + 15\n",
    "\n",
    "print(\"total sum : \",sum1(10))"
   ]
  },
  {
   "cell_type": "code",
   "execution_count": null,
   "id": "a1212db8",
   "metadata": {},
   "outputs": [],
   "source": []
  }
 ],
 "metadata": {
  "kernelspec": {
   "display_name": "Python 3 (ipykernel)",
   "language": "python",
   "name": "python3"
  },
  "language_info": {
   "codemirror_mode": {
    "name": "ipython",
    "version": 3
   },
   "file_extension": ".py",
   "mimetype": "text/x-python",
   "name": "python",
   "nbconvert_exporter": "python",
   "pygments_lexer": "ipython3",
   "version": "3.9.13"
  }
 },
 "nbformat": 4,
 "nbformat_minor": 5
}
