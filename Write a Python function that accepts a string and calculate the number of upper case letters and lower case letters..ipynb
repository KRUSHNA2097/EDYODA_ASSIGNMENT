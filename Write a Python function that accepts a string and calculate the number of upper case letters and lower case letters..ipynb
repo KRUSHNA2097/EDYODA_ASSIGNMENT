{
 "cells": [
  {
   "cell_type": "markdown",
   "id": "38714a52",
   "metadata": {},
   "source": [
    "# Write a Python function that accepts a string and calculate the number of upper case letters and lower case letters.\n",
    "\n",
    "\n",
    "\n",
    "# ﻿Sample String : 'The quick Brow Fox'\n",
    "\n",
    "# Expected Output :\n",
    "\n",
    "# No. of Upper case characters : 3\n",
    "\n",
    "# No. of Lower case Characters : 12"
   ]
  },
  {
   "cell_type": "code",
   "execution_count": 4,
   "id": "2c1a1232",
   "metadata": {},
   "outputs": [
    {
     "name": "stdout",
     "output_type": "stream",
     "text": [
      "Enter a string: 'The quick Brow Fox'\n",
      "Original string:  The quick Brow Fox\n",
      "No. of Upper case charecter:  3\n",
      "No. of Lower case charecter:  12\n"
     ]
    }
   ],
   "source": [
    "def count_u_l(my_string):\n",
    "    d={\"UPPER_CASE\":0, \"LOWER_CASE\":0}\n",
    "    for x in my_string:\n",
    "        if x.isupper():\n",
    "            d[\"UPPER_CASE\"]+=1\n",
    "        elif x.islower():\n",
    "            d[\"LOWER_CASE\"]+=1\n",
    "        else:\n",
    "            pass\n",
    "    print(\"Original string: \",my_string)\n",
    "    print(\"No. of Upper case charecter: \",d[\"UPPER_CASE\"])\n",
    "    print(\"No. of Lower case charecter: \",d[\"LOWER_CASE\"])\n",
    "count_u_l(eval(input(\"Enter a string: \")))"
   ]
  },
  {
   "cell_type": "code",
   "execution_count": null,
   "id": "e69f10b3",
   "metadata": {},
   "outputs": [],
   "source": []
  }
 ],
 "metadata": {
  "kernelspec": {
   "display_name": "Python 3 (ipykernel)",
   "language": "python",
   "name": "python3"
  },
  "language_info": {
   "codemirror_mode": {
    "name": "ipython",
    "version": 3
   },
   "file_extension": ".py",
   "mimetype": "text/x-python",
   "name": "python",
   "nbconvert_exporter": "python",
   "pygments_lexer": "ipython3",
   "version": "3.9.13"
  }
 },
 "nbformat": 4,
 "nbformat_minor": 5
}
