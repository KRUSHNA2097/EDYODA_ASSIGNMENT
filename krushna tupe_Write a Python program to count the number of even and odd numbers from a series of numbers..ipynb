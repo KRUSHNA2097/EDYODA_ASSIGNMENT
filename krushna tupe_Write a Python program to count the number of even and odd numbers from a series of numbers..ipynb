{
 "cells": [
  {
   "cell_type": "code",
   "execution_count": 1,
   "id": "84621edd",
   "metadata": {},
   "outputs": [
    {
     "name": "stdout",
     "output_type": "stream",
     "text": [
      "Number of even numbers :  4\n",
      "Number of odd numbers :  5\n"
     ]
    }
   ],
   "source": [
    "numbers = (1,2,3,4,5,6,7,8,9)\n",
    "\n",
    "e_count, o_count = 0,0\n",
    "\n",
    "for num in numbers:\n",
    "    if num % 2 ==0:\n",
    "        e_count += 1\n",
    "        \n",
    "    else:\n",
    "        o_count += 1\n",
    "        \n",
    "print(\"Number of even numbers : \",e_count)    \n",
    "print(\"Number of odd numbers : \", o_count)"
   ]
  },
  {
   "cell_type": "code",
   "execution_count": null,
   "id": "4d838137",
   "metadata": {},
   "outputs": [],
   "source": []
  }
 ],
 "metadata": {
  "kernelspec": {
   "display_name": "Python 3 (ipykernel)",
   "language": "python",
   "name": "python3"
  },
  "language_info": {
   "codemirror_mode": {
    "name": "ipython",
    "version": 3
   },
   "file_extension": ".py",
   "mimetype": "text/x-python",
   "name": "python",
   "nbconvert_exporter": "python",
   "pygments_lexer": "ipython3",
   "version": "3.9.13"
  }
 },
 "nbformat": 4,
 "nbformat_minor": 5
}
