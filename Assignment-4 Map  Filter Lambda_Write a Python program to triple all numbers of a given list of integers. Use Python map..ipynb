{
 "cells": [
  {
   "cell_type": "code",
   "execution_count": 6,
   "id": "0af3657b",
   "metadata": {},
   "outputs": [
    {
     "name": "stdout",
     "output_type": "stream",
     "text": [
      "Enter a list: [1, 2, 3, 4, 5, 6, 7]\n",
      "Triple of Num_list numbers: [3, 6, 9, 12, 15, 18, 21]\n"
     ]
    }
   ],
   "source": [
    "Num_list = eval(input(\"Enter a list: \"))\n",
    "\n",
    "result = map(lambda x: x + x + x, Num_list) \n",
    "\n",
    "print(\"Triple of Num_list numbers:\",list(result))\n"
   ]
  },
  {
   "cell_type": "code",
   "execution_count": null,
   "id": "7dc5b5ca",
   "metadata": {},
   "outputs": [],
   "source": []
  }
 ],
 "metadata": {
  "kernelspec": {
   "display_name": "Python 3 (ipykernel)",
   "language": "python",
   "name": "python3"
  },
  "language_info": {
   "codemirror_mode": {
    "name": "ipython",
    "version": 3
   },
   "file_extension": ".py",
   "mimetype": "text/x-python",
   "name": "python",
   "nbconvert_exporter": "python",
   "pygments_lexer": "ipython3",
   "version": "3.9.13"
  }
 },
 "nbformat": 4,
 "nbformat_minor": 5
}
